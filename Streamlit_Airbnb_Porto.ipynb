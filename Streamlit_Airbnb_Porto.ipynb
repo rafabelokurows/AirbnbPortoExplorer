{
  "nbformat": 4,
  "nbformat_minor": 0,
  "metadata": {
    "colab": {
      "name": "Streamlit Airbnb Porto.ipynb",
      "provenance": [],
      "collapsed_sections": [],
      "authorship_tag": "ABX9TyP4XvEudilw0qzIt5/yGlT0",
      "include_colab_link": true
    },
    "kernelspec": {
      "name": "python3",
      "display_name": "Python 3"
    },
    "language_info": {
      "name": "python"
    }
  },
  "cells": [
    {
      "cell_type": "markdown",
      "metadata": {
        "id": "view-in-github",
        "colab_type": "text"
      },
      "source": [
        "<a href=\"https://colab.research.google.com/github/rafabelokurows/AirbnbPortoExplorer/blob/main/Streamlit_Airbnb_Porto.ipynb\" target=\"_parent\"><img src=\"https://colab.research.google.com/assets/colab-badge.svg\" alt=\"Open In Colab\"/></a>"
      ]
    },
    {
      "cell_type": "code",
      "execution_count": null,
      "metadata": {
        "id": "Ytdviqa15J0p"
      },
      "outputs": [],
      "source": [
        "pip install streamlit"
      ]
    },
    {
      "cell_type": "code",
      "source": [
        "pip install streamlit_folium"
      ],
      "metadata": {
        "colab": {
          "base_uri": "https://localhost:8080/"
        },
        "id": "NHrhiOpsBMTA",
        "outputId": "afc1c377-ca80-46a6-d0bc-30f12898f680"
      },
      "execution_count": null,
      "outputs": [
        {
          "output_type": "stream",
          "name": "stdout",
          "text": [
            "Installing collected packages: folium, streamlit-folium\n",
            "  Attempting uninstall: folium\n",
            "    Found existing installation: folium 0.8.3\n",
            "    Uninstalling folium-0.8.3:\n",
            "      Successfully uninstalled folium-0.8.3\n",
            "\u001b[31mERROR: pip's dependency resolver does not currently take into account all the packages that are installed. This behaviour is the source of the following dependency conflicts.\n",
            "datascience 0.10.6 requires folium==0.2.1, but you have folium 0.12.1.post1 which is incompatible.\u001b[0m\n",
            "Successfully installed folium-0.12.1.post1 streamlit-folium-0.4.0\n"
          ]
        }
      ]
    },
    {
      "cell_type": "code",
      "source": [
        "#@st.cache\n",
        "#url = \"http://data.insideairbnb.com/portugal/norte/porto/2021-12-08/visualisations/listings.csv\"\n",
        "\n",
        "#exemplos:\n",
        "#https://github.com/CrosstabKite/worst-case-analysis/blob/6ea5f65beef2d1daefba7a03e74dd1aab3d26338/app.py#L42\n",
        "#https://github.com/shaildeliwala/experiments/blob/master/streamlit.py\n",
        "#https://github.com/amolnaik/pynance\n",
        "\n",
        "#todo:\n",
        "#obter métricas pra colocar em gauges no topo\n",
        " #average price per night\n",
        "\n",
        "#adicionar algumas visualizações gráficas\n",
        " #wordcloud\n",
        " #um mapa melhor\n",
        " #um histograma ou outro gráfico de valores\n",
        "\n",
        "%%writefile app.py\n",
        "import pandas as pd\n",
        "import streamlit as st\n",
        "import plotly.express as px\n",
        "import matplotlib.pyplot as plt\n",
        "from wordcloud import WordCloud, ImageColorGenerator\n",
        "st.set_option('deprecation.showPyplotGlobalUse', False)\n",
        "import folium\n",
        "from folium.plugins import HeatMap\n",
        "from streamlit_folium import folium_static\n",
        "import folium\n",
        "\n",
        "df = pd.read_csv(\"http://data.insideairbnb.com/portugal/norte/porto/2021-12-08/visualisations/listings.csv\")\n",
        "df = df[df['neighbourhood_group']=='PORTO']\n",
        "st.set_page_config(page_title=\"Analysis of Airbnb listings in Porto\", layout = 'wide', initial_sidebar_state = 'auto')\n",
        "\n",
        "st.title(\"Analysis of Airbnb listings in Porto\")\n",
        "st.markdown(\"Welcome to this in-depth introduction to [...].\")\n",
        "\n",
        "col1, col2, col3 = st.columns(3)\n",
        "col1.metric(\"Median price\", \"{:10.3f}\".format(df.price.mean()))\n",
        "col2.metric(\"Median size (m2)\", df.size.mean())\n",
        "col3.metric(\"Median smth else\", \"86%\", \"4%\")\n",
        "\n",
        "st.sidebar.markdown(\"**Author**: Rafael Belokurows\")\n",
        "st.sidebar.markdown(\"**Mail**: rafabelokurows@gmail.com\")\n",
        "st.sidebar.markdown(\"- [Linkedin](https://www.linkedin.com/in/toniesteves/)\")\n",
        "st.sidebar.markdown(\"- [Twitter](https://twitter.com/)\")\n",
        "st.sidebar.markdown(\"- [Medium](https://medium.com/@toni_esteves)\")\n",
        "\n",
        "\n",
        "st.sidebar.markdown(\"**Version:** 1.0.0\")\n",
        "st.sidebar.header('Filter listings')\n",
        "outside = st.sidebar.checkbox('View listings outside of Porto municipality')\n",
        "values = st.sidebar.slider(\"Price range ($)\", float(df.price.min()), float(df.price.clip(upper=1000.).max()), (50., 300.))\n",
        "min_nights_values = st.sidebar.slider('Minimum Nights', 0, 30, (1))\n",
        "left_col, right_col = st.columns(2)\n",
        "\n",
        "left_col.subheader(\"Average price by neighborhood\")\n",
        "left_col.table(df.groupby(\"neighbourhood\").price.mean().reset_index().round(2).sort_values(\"price\", ascending=False).assign(avg_price=lambda x: x.pop(\"price\").apply(lambda y: \"%.2f\" % y)))\n",
        "\n",
        "\n",
        "right_col.subheader('Where are the most expensive properties located?')\n",
        "right_col.markdown(\"The following map shows the top 1% most expensive Airbnbs priced at $800 and above.\")\n",
        "right_col.map(df.query(\"price>=500\")[[\"latitude\", \"longitude\"]].dropna(how=\"any\"))\n",
        "\n",
        "left_col.subheader(\"Words that appear the most on property names\")\n",
        "text = ' '.join(str(n).lower() for n in df.name)\n",
        "\n",
        "wordcloud = WordCloud(max_words=200, background_color = 'white').generate(text)\n",
        "plt.imshow(wordcloud, interpolation='bilinear')\n",
        "plt.axis(\"off\")\n",
        "plt.show()\n",
        "left_col.pyplot()\n",
        "\n",
        "map_folium = folium.Map([4.15,8.6],zoom_start=11.4)\n",
        "HeatMap(df[['latitude','longitude']].dropna(),radius=8,gradient={0.2:'blue',0.4:'purple',0.6:'orange',1.0:'red'}).add_to(map_folium)\n",
        "right_col.subheader(\"Another map\")\n",
        "#right_col.display(map_folium)\n",
        "\n",
        "with right_col:\n",
        "    folium_static(map_folium)\n",
        "\n",
        "fig = px.histogram(df.price, x=\"price\", nbins=25, title=\"Price distribution\")\n",
        "fig.update_xaxes(title=\"Price\")\n",
        "fig.update_yaxes(title=\"No. of listings\")\n",
        "# Plot!\n",
        "left_col.plotly_chart(fig, use_container_width=True)\n",
        "\n",
        "#st.markdown(\"The first five records of the Airbnb data we downloaded.\")\n",
        "#st.dataframe(df.head())\n",
        "# st.header(\"Where are the most expensive properties located?\")\n",
        "# st.markdown(\"The following map shows the top 1% most expensive Airbnbs priced at $800 and above.\")\n",
        "# st.map(df.query(\"price>=500\")[[\"latitude\", \"longitude\"]].dropna(how=\"any\"))\n",
        "# st.subheader(\"In a table\")\n",
        "# st.markdown(\"Following are the top five most expensive properties.\")\n",
        "# st.write(df.query(\"price>=500\").sort_values(\"price\", ascending=False).head())\n",
        "\n",
        "# st.header(\"Which host has the most properties listed?\")\n",
        "# listingcounts = df.host_id.value_counts()\n",
        "# top_host_1 = df.query('host_id==@listingcounts.index[0]')\n",
        "# top_host_2 = df.query('host_id==@listingcounts.index[1]')\n",
        "# st.write(f\"\"\"**{top_host_1.iloc[0].host_name}** is at the top with {listingcounts.iloc[0]} property listings.\n",
        "# **{top_host_2.iloc[1].host_name}** is second with {listingcounts.iloc[1]} listings. Following are randomly chosen\n",
        "\n",
        "# st.header(\"What is the distribution of property price?\")\n",
        "# st.write(\"\"\"Select a custom price range from the side bar to update the histogram below displayed as a Plotly chart using\n",
        "# [`st.plotly_chart`](https://streamlit.io/docs/api.html#streamlit.plotly_chart).\"\"\")\n",
        "# #f = px.histogram(df.query(f\"price.between{values}\"), x=\"price\", nbins=15, title=\"Price distribution\")\n",
        "# #f.update_xaxes(title=\"Price\")\n",
        "# #f.update_yaxes(title=\"No. of listings\")\n",
        "# #st.plotly_chart(f)\n",
        "\n",
        "# st.header(\"What is the distribution of availability in various neighborhoods?\")\n",
        "# st.write(\"Using a radio button restricts selection to only one option at a time.\")\n",
        "# st.write(\"💡 Notice how we use a static table below instead of a data frame. \\\n",
        "# Unlike a data frame, if content overflows out of the section margin, \\\n",
        "# a static table does not automatically hide it inside a scrollable area. \\\n",
        "# Instead, the overflowing content remains visible.\")\n",
        "# neighborhood = st.radio(\"Neighborhood\", df.neighbourhood_group.unique())\n",
        "# show_exp = st.checkbox(\"Include expensive listings\")\n",
        "# show_exp = \" and price<200\" if not show_exp else \"\"\n",
        "st.markdown('-----------------------------------------------------')\n",
        "st.text('Developed by Rafael Belokurows - 2022')\n",
        "st.text('Mail: rafabelokurows@gmail.com')"
      ],
      "metadata": {
        "colab": {
          "base_uri": "https://localhost:8080/"
        },
        "id": "md1BOU1W5TTF",
        "outputId": "f9e164d1-8f62-40b9-d2a6-e52690b9ac12"
      },
      "execution_count": 1,
      "outputs": [
        {
          "output_type": "stream",
          "name": "stdout",
          "text": [
            "Writing app.py\n"
          ]
        }
      ]
    },
    {
      "cell_type": "code",
      "source": [
        "!streamlit run app.py & npx localtunnel --port 8501"
      ],
      "metadata": {
        "colab": {
          "base_uri": "https://localhost:8080/"
        },
        "id": "lDIFwoC1-dm8",
        "outputId": "6848ff73-3729-4216-f753-98d09bc334ee"
      },
      "execution_count": null,
      "outputs": [
        {
          "output_type": "stream",
          "name": "stdout",
          "text": [
            "\u001b[0m\n",
            "\u001b[34m\u001b[1m  You can now view your Streamlit app in your browser.\u001b[0m\n",
            "\u001b[0m\n",
            "\u001b[34m  Network URL: \u001b[0m\u001b[1mhttp://172.28.0.2:8501\u001b[0m\n",
            "\u001b[34m  External URL: \u001b[0m\u001b[1mhttp://34.80.81.177:8501\u001b[0m\n",
            "\u001b[0m\n",
            "\u001b[K\u001b[?25hnpx: installed 22 in 4.217s\n",
            "your url is: https://strong-cheetah-82.loca.lt\n",
            "2022-01-30 22:30:55.837 NumExpr defaulting to 2 threads.\n",
            "\u001b[34m  Stopping...\u001b[0m\n",
            "^C\n"
          ]
        }
      ]
    }
  ]
}