{
  "nbformat": 4,
  "nbformat_minor": 0,
  "metadata": {
    "colab": {
      "name": "Streamlit Airbnb Porto.ipynb",
      "provenance": [],
      "collapsed_sections": [],
      "authorship_tag": "ABX9TyOynMwK7CqjUuEd8r76r9O8",
      "include_colab_link": true
    },
    "kernelspec": {
      "name": "python3",
      "display_name": "Python 3"
    },
    "language_info": {
      "name": "python"
    }
  },
  "cells": [
    {
      "cell_type": "markdown",
      "metadata": {
        "id": "view-in-github",
        "colab_type": "text"
      },
      "source": [
        "<a href=\"https://colab.research.google.com/github/rafabelokurows/AirbnbPortoExplorer/blob/main/Streamlit_Airbnb_Porto.ipynb\" target=\"_parent\"><img src=\"https://colab.research.google.com/assets/colab-badge.svg\" alt=\"Open In Colab\"/></a>"
      ]
    },
    {
      "cell_type": "code",
      "execution_count": 1,
      "metadata": {
        "colab": {
          "base_uri": "https://localhost:8080/",
          "height": 297
        },
        "id": "Ytdviqa15J0p",
        "outputId": "3103f437-dac4-44b4-8ccd-a220b0e6be4b"
      },
      "outputs": [
        {
          "output_type": "stream",
          "name": "stdout",
          "text": [
            "      Successfully uninstalled ipykernel-4.10.1\n",
            "\u001b[31mERROR: pip's dependency resolver does not currently take into account all the packages that are installed. This behaviour is the source of the following dependency conflicts.\n",
            "jupyter-console 5.2.0 requires prompt-toolkit<2.0.0,>=1.0.0, but you have prompt-toolkit 3.0.24 which is incompatible.\n",
            "google-colab 1.0.0 requires ipykernel~=4.10, but you have ipykernel 6.7.0 which is incompatible.\n",
            "google-colab 1.0.0 requires ipython~=5.5.0, but you have ipython 7.31.1 which is incompatible.\u001b[0m\n",
            "Successfully installed base58-2.1.1 blinker-1.4 gitdb-4.0.9 gitpython-3.1.26 ipykernel-6.7.0 ipython-7.31.1 prompt-toolkit-3.0.24 pydeck-0.7.1 pympler-1.0.1 smmap-5.0.0 streamlit-1.4.0 validators-0.18.2 watchdog-2.1.6\n"
          ]
        },
        {
          "output_type": "display_data",
          "data": {
            "application/vnd.colab-display-data+json": {
              "pip_warning": {
                "packages": [
                  "IPython",
                  "ipykernel",
                  "prompt_toolkit"
                ]
              }
            }
          },
          "metadata": {}
        }
      ],
      "source": [
        "#pip install streamlit"
      ]
    },
    {
      "cell_type": "code",
      "source": [
        "#@st.cache\n",
        "#url = \"http://data.insideairbnb.com/portugal/norte/porto/2021-12-08/visualisations/listings.csv\"\n",
        "\n",
        "#exemplos:\n",
        "#https://github.com/CrosstabKite/worst-case-analysis/blob/6ea5f65beef2d1daefba7a03e74dd1aab3d26338/app.py#L42\n",
        "#https://github.com/shaildeliwala/experiments/blob/master/streamlit.py\n",
        "#https://github.com/amolnaik/pynance\n",
        "\n",
        "#todo:\n",
        "#obter métricas pra colocar em gauges no topo\n",
        "#adicionar algumas visualizações gráficas\n",
        "#talvez um mapa com heatmap\n",
        "#pesquisar como postar esse app\n",
        "\n",
        "%%writefile app.py\n",
        "import pandas as pd\n",
        "import streamlit as st\n",
        "import plotly.express as px\n",
        "df = pd.read_csv(\"http://data.insideairbnb.com/portugal/norte/porto/2021-12-08/visualisations/listings.csv\")\n",
        "df = df[df['neighbourhood_group']=='PORTO']\n",
        "st.set_page_config(page_title=\"Analysis of Airbnb listings in Porto\", layout = 'wide', initial_sidebar_state = 'auto')\n",
        "\n",
        "st.title(\"Analysis of Airbnb listings in Porto\")\n",
        "st.markdown(\"Welcome to this in-depth introduction to [...].\")\n",
        "\n",
        "col1, col2, col3 = st.columns(3)\n",
        "col1.metric(\"Median price\", \"70 °F\", \"1.2 °F\")\n",
        "col2.metric(\"Median size (m2)\", \"9 mph\", \"-8%\")\n",
        "col3.metric(\"Median smth else\", \"86%\", \"4%\")\n",
        "\n",
        "st.sidebar.header('Filter listings')\n",
        "outside = st.sidebar.checkbox('View listings outside of Porto municipality')\n",
        "values = st.sidebar.slider(\"Price range\", float(df.price.min()), float(df.price.clip(upper=1000.).max()), (50., 300.))\n",
        "left_col, right_col = st.columns(2)\n",
        "\n",
        "\n",
        "left_col.subheader(\"The first five records of the Airbnb data we downloaded\")\n",
        "left_col.dataframe(df.head())\n",
        "\n",
        "right_col.subheader('Where are the most expensive properties located?')\n",
        "right_col.markdown(\"The following map shows the top 1% most expensive Airbnbs priced at $800 and above.\")\n",
        "right_col.map(df.query(\"price>=500\")[[\"latitude\", \"longitude\"]].dropna(how=\"any\"))\n",
        "\n",
        "\n",
        "left_col.subheader(\"Average price by neighborhood\")\n",
        "left_col.table(df.groupby(\"neighbourhood\").price.mean().reset_index().round(2).sort_values(\"price\", ascending=False).assign(avg_price=lambda x: x.pop(\"price\").apply(lambda y: \"%.2f\" % y)))\n",
        "#st.markdown(\"The first five records of the Airbnb data we downloaded.\")\n",
        "#st.dataframe(df.head())\n",
        "# st.header(\"Where are the most expensive properties located?\")\n",
        "# st.markdown(\"The following map shows the top 1% most expensive Airbnbs priced at $800 and above.\")\n",
        "# st.map(df.query(\"price>=500\")[[\"latitude\", \"longitude\"]].dropna(how=\"any\"))\n",
        "# st.subheader(\"In a table\")\n",
        "# st.markdown(\"Following are the top five most expensive properties.\")\n",
        "# st.write(df.query(\"price>=500\").sort_values(\"price\", ascending=False).head())\n",
        "\n",
        "\n",
        "\n",
        "# st.subheader(\"Selecting a subset of columns\")\n",
        "# st.write(f\"Out of the {df.shape[1]} columns, you might want to view only a subset. Streamlit has a [multiselect](https://streamlit.io/docs/api.html#streamlit.multiselect) widget for this.\")\n",
        "# defaultcols = [\"name\", \"host_name\", \"neighbourhood\", \"room_type\", \"price\"]\n",
        "# cols = st.multiselect(\"Columns\", df.columns.tolist(), default=defaultcols)\n",
        "# st.dataframe(df[cols].head(10))\n",
        "\n",
        "# st.header(\"Average price by room type\")\n",
        "# st.write(\"You can also display static tables. As opposed to a data frame, with a static table you cannot sorting by clicking a column header.\")\n",
        "# st.table(df.groupby(\"room_type\").price.mean().reset_index()\\\n",
        "#     .round(2).sort_values(\"price\", ascending=False)\\\n",
        "#     .assign(avg_price=lambda x: x.pop(\"price\").apply(lambda y: \"%.2f\" % y)))\n",
        "\n",
        "# st.header(\"Average price by neighborhood type\")\n",
        "# st.write(\"You can also display static tables. As opposed to a data frame, with a static table you cannot sorting by clicking a column header.\")\n",
        "# st.table(df.groupby(\"neighbourhood\").price.mean().reset_index().round(2).sort_values(\"price\", ascending=False).assign(avg_price=lambda x: x.pop(\"price\").apply(lambda y: \"%.2f\" % y)))\n",
        "\n",
        "# st.header(\"Which host has the most properties listed?\")\n",
        "# listingcounts = df.host_id.value_counts()\n",
        "# top_host_1 = df.query('host_id==@listingcounts.index[0]')\n",
        "# top_host_2 = df.query('host_id==@listingcounts.index[1]')\n",
        "# st.write(f\"\"\"**{top_host_1.iloc[0].host_name}** is at the top with {listingcounts.iloc[0]} property listings.\n",
        "# **{top_host_2.iloc[1].host_name}** is second with {listingcounts.iloc[1]} listings. Following are randomly chosen\n",
        "# listings from the two displayed as JSON using [`st.json`](https://streamlit.io/docs/api.html#streamlit.json).\"\"\")\n",
        "\n",
        "# st.json({top_host_1.iloc[0].host_name: top_host_1\\\n",
        "#     [[\"name\", \"neighbourhood\", \"room_type\", \"minimum_nights\", \"price\"]]\\\n",
        "#         .sample(2, random_state=4).to_dict(orient=\"records\"),\n",
        "#         top_host_2.iloc[0].host_name: top_host_2\\\n",
        "#     [[\"name\", \"neighbourhood\", \"room_type\", \"minimum_nights\", \"price\"]]\\\n",
        "#         .sample(2, random_state=4).to_dict(orient=\"records\")})\n",
        "\n",
        "# st.header(\"What is the distribution of property price?\")\n",
        "# st.write(\"\"\"Select a custom price range from the side bar to update the histogram below displayed as a Plotly chart using\n",
        "# [`st.plotly_chart`](https://streamlit.io/docs/api.html#streamlit.plotly_chart).\"\"\")\n",
        "# #f = px.histogram(df.query(f\"price.between{values}\"), x=\"price\", nbins=15, title=\"Price distribution\")\n",
        "# #f.update_xaxes(title=\"Price\")\n",
        "# #f.update_yaxes(title=\"No. of listings\")\n",
        "# #st.plotly_chart(f)\n",
        "\n",
        "# st.header(\"What is the distribution of availability in various neighborhoods?\")\n",
        "# st.write(\"Using a radio button restricts selection to only one option at a time.\")\n",
        "# st.write(\"💡 Notice how we use a static table below instead of a data frame. \\\n",
        "# Unlike a data frame, if content overflows out of the section margin, \\\n",
        "# a static table does not automatically hide it inside a scrollable area. \\\n",
        "# Instead, the overflowing content remains visible.\")\n",
        "# neighborhood = st.radio(\"Neighborhood\", df.neighbourhood_group.unique())\n",
        "# show_exp = st.checkbox(\"Include expensive listings\")\n",
        "# show_exp = \" and price<200\" if not show_exp else \"\""
      ],
      "metadata": {
        "colab": {
          "base_uri": "https://localhost:8080/"
        },
        "id": "md1BOU1W5TTF",
        "outputId": "32f92d8c-671c-43e7-8306-5b68b6e76305"
      },
      "execution_count": 46,
      "outputs": [
        {
          "output_type": "stream",
          "name": "stdout",
          "text": [
            "Overwriting app.py\n"
          ]
        }
      ]
    },
    {
      "cell_type": "code",
      "source": [
        "!streamlit run app.py & npx localtunnel --port 8501"
      ],
      "metadata": {
        "colab": {
          "base_uri": "https://localhost:8080/"
        },
        "id": "lDIFwoC1-dm8",
        "outputId": "d17d6b33-0099-4d66-abed-142d5da29aac"
      },
      "execution_count": 47,
      "outputs": [
        {
          "output_type": "stream",
          "name": "stdout",
          "text": [
            "\u001b[0m\n",
            "\u001b[34m\u001b[1m  You can now view your Streamlit app in your browser.\u001b[0m\n",
            "\u001b[0m\n",
            "\u001b[34m  Network URL: \u001b[0m\u001b[1mhttp://172.28.0.2:8501\u001b[0m\n",
            "\u001b[34m  External URL: \u001b[0m\u001b[1mhttp://35.229.43.14:8501\u001b[0m\n",
            "\u001b[0m\n",
            "\u001b[K\u001b[?25hnpx: installed 22 in 4.604s\n",
            "2022-01-27 10:48:45.721 NumExpr defaulting to 2 threads.\n",
            "your url is: https://short-panda-92.loca.lt\n",
            "\u001b[34m  Stopping...\u001b[0m\n",
            "^C\n"
          ]
        }
      ]
    }
  ]
}